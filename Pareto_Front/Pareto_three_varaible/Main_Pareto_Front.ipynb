{
 "cells": [
  {
   "cell_type": "code",
   "execution_count": 1,
   "metadata": {},
   "outputs": [],
   "source": [
    "from platypus import NSGAII, Problem, Real\n",
    "import matplotlib.pyplot as plt\n",
    "import numpy as np\n",
    "import matplotlib.colors as mcolors\n",
    "import pandas as pd\n",
    "import random"
   ]
  },
  {
   "cell_type": "code",
   "execution_count": 2,
   "metadata": {},
   "outputs": [],
   "source": [
    "# Load the autoreload extension\n",
    "%load_ext autoreload\n",
    "%autoreload 2\n",
    "%reload_ext autoreload"
   ]
  },
  {
   "cell_type": "code",
   "execution_count": 3,
   "metadata": {},
   "outputs": [],
   "source": [
    "from Mult_Obj_Helathy import Main_Model as Mdl_H \n",
    "from Mult_Obj_Tumor import Main_Model as Mdl_T"
   ]
  },
  {
   "cell_type": "markdown",
   "metadata": {},
   "source": [
    "# Mixture of CAR NK and WT\n",
    "(1) check for 50 and 50 "
   ]
  },
  {
   "cell_type": "code",
   "execution_count": 4,
   "metadata": {},
   "outputs": [],
   "source": [
    "Shell_H = Mdl_H()\n",
    "Shell_T = Mdl_T()"
   ]
  },
  {
   "cell_type": "code",
   "execution_count": 5,
   "metadata": {},
   "outputs": [
    {
     "name": "stdout",
     "output_type": "stream",
     "text": [
      "T 55.175242449644635\n",
      "H 68.50627954678944\n",
      "done\n",
      "T 43.93872715080229\n",
      "H 57.54214723416591\n",
      "done\n",
      "T 32.55867843066501\n",
      "H 45.54977986168765\n",
      "done\n",
      "T 21.49959705471676\n",
      "H 33.00806399088352\n",
      "done\n",
      "T 12.717113244307598\n",
      "H 21.507031318246018\n",
      "done\n",
      "T 6.975837965660392\n",
      "H 12.622761559455542\n",
      "done\n"
     ]
    }
   ],
   "source": [
    "Tumor_No = 10000\n",
    "for i in [10.0,5.0,2.5,1.25,0.625,0.3125]:\n",
    "    x0 = i\n",
    "    NK_No = x0*Tumor_No\n",
    "    x = [0.6,0.6]\n",
    "    param_100 = np.array([0.01, 1.3611247151766386, 2.646954531914279, 1.119928427439465, 0.8030447162325958])  \n",
    "    frac = param_100[-1]\n",
    "    MFI_limt = [[(0, 100), (0, 300), (0.0, 50.0)], [(0, 30), (0, 70), (0, 20.0)]]\n",
    "    Shell_T.Tumor(x[0], frac, x[1], NK_No = NK_No, Tc_No = Tumor_No, param=param_100[:-1], NK_cell='MIX', Tumor_cell='Kasumi1',limts=MFI_limt)\n",
    "    MFI_limt = [[(0, 100), (0, 300), (0.0, 50.0)], [(0, 40), (0, 45), (0, 200.0)]]\n",
    "    Shell_H.Healthy(x[0], frac, x[1], NK_No = NK_No, Tc_No = Tumor_No, param=param_100[:-1], NK_cell='MIX', Tumor_cell='Monocyte',limts=MFI_limt)\n",
    "    print('done')"
   ]
  },
  {
   "cell_type": "code",
   "execution_count": 5,
   "metadata": {},
   "outputs": [],
   "source": [
    "# Define your multi-objective problem here\n",
    "class MyProblem(Problem):\n",
    "    def __init__(self,ET_ratio):\n",
    "        super(MyProblem, self).__init__(3, 2) # #variables, #objectives)\n",
    "        self.types[:] = [Real(0.0, 1.0),Real(0.0, 0.8),Real(0.0, 1.0)]\n",
    "        self.Shell_H = Mdl_H()\n",
    "        self.Shell_T = Mdl_T()\n",
    "        self.ET_ratio = ET_ratio\n",
    "        self.directions[:] = [Problem.MINIMIZE, Problem.MAXIMIZE]\n",
    "\n",
    "    def evaluate(self, solution):\n",
    "        x = np.array(solution.variables)\n",
    "        print('x0',x)\n",
    "        Tumor_No = 10000\n",
    "        NK_No = self.ET_ratio*Tumor_No\n",
    "        param_100 = np.array([0.01, 1.3611247151766386, 2.646954531914279, 1.119928427439465, 0.8030447162325958])  \n",
    "        MFI_limt = [[(0, 100), (0, 300), (0.0, 50.0)], [(0, 40), (0, 45), (0, 200.0)]]\n",
    "        f1 = self.Shell_H.Healthy(x[0], x[1], x[2], NK_No = NK_No, Tc_No = Tumor_No, param=param_100[:-1], NK_cell='MIX', Tumor_cell='Monocyte',limts=MFI_limt) # Objective 1\n",
    "        MFI_limt = [[(0, 100), (0, 300), (0.0, 50.0)], [(0, 30), (0, 70), (0, 20.0)]]\n",
    "        f2 = self.Shell_T.Tumor(x[0], x[1], x[2], NK_No = NK_No, Tc_No = Tumor_No, param=param_100[:-1], NK_cell='MIX', Tumor_cell='Kasumi1',limts=MFI_limt) # Objective 2\n",
    "        solution.objectives[:] = [f1, f2]"
   ]
  },
  {
   "cell_type": "code",
   "execution_count": null,
   "metadata": {},
   "outputs": [],
   "source": [
    "seed_value = 42\n",
    "np.random.seed(seed_value)\n",
    "random.seed(seed_value)\n",
    "for ET_ratio in [1,5,10]:\n",
    "        problem = MyProblem(ET_ratio)\n",
    "        algorithm = NSGAII(problem)\n",
    "        algorithm.run(2)\n",
    "        Healthy_Lysis = [s.objectives[0] for s in algorithm.result]\n",
    "        Tumor_Lysis = [s.objectives[1] for s in algorithm.result]\n",
    "        alpha1 =  [s.variables[0] for s in algorithm.result]\n",
    "        frac =  [s.variables[1] for s in algorithm.result]\n",
    "        alpha4 =  [s.variables[2] for s in algorithm.result]\n",
    "        filename = f'a4_bw_p001_1_Lysis_Kasumi_Healthy_CAR_NK_ET_{ET_ratio}.xlsx'\n",
    "        df = pd.DataFrame(columns=['alpha1','alpha4','w','Tumor_lysis', 'Healthy_Lysis'])\n",
    "        df['alpha1'] = alpha1\n",
    "        df['alpha4'] = alpha4\n",
    "        df['w'] = frac\n",
    "        df['Tumor_lysis'] = Tumor_Lysis\n",
    "        df['Healthy_Lysis'] = Healthy_Lysis\n",
    "        df.to_excel(filename)\n",
    "        print('Done for', ET_ratio)"
   ]
  }
 ],
 "metadata": {
  "kernelspec": {
   "display_name": "Num_Sim",
   "language": "python",
   "name": "python3"
  },
  "language_info": {
   "codemirror_mode": {
    "name": "ipython",
    "version": 3
   },
   "file_extension": ".py",
   "mimetype": "text/x-python",
   "name": "python",
   "nbconvert_exporter": "python",
   "pygments_lexer": "ipython3",
   "version": "3.11.8"
  }
 },
 "nbformat": 4,
 "nbformat_minor": 2
}
